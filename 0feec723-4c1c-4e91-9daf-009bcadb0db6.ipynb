{
 "cells": [
  {
   "cell_type": "markdown",
   "metadata": {},
   "source": [
    "## Загрузка и обзор данных"
   ]
  },
  {
   "cell_type": "code",
   "execution_count": 1,
   "metadata": {},
   "outputs": [],
   "source": [
    "# импортируем библиотеки\n",
    "import pandas as pd\n",
    "from sqlalchemy import text, create_engine\n",
    "\n",
    "# устанавливаем параметры\n",
    "db_config = {'user': 'praktikum_student', # имя пользователя\n",
    "'pwd': 'Sdf4$2;d-d30pp', # пароль\n",
    "'host': 'rc1b-wcoijxj3yxfsf3fs.mdb.yandexcloud.net',\n",
    "'port': 6432, # порт подключения\n",
    "'db': 'data-analyst-final-project-db'} # название базы данных\n",
    "connection_string = 'postgresql://{user}:{pwd}@{host}:{port}/{db}'.format(**db_config)\n",
    "\n",
    "# сохраняем коннектор\n",
    "engine = create_engine(connection_string, connect_args={'sslmode':'require'})\n"
   ]
  },
  {
   "cell_type": "code",
   "execution_count": 2,
   "metadata": {},
   "outputs": [],
   "source": [
    "# чтобы выполнить SQL-запрос, используем Pandas\n",
    "def out(sql_code):\n",
    "    query = sql_code\n",
    "    con=engine.connect()\n",
    "    return pd.io.sql.read_sql(sql=text(query), con = con)"
   ]
  },
  {
   "cell_type": "code",
   "execution_count": 3,
   "metadata": {},
   "outputs": [
    {
     "data": {
      "text/html": [
       "<div>\n",
       "<style scoped>\n",
       "    .dataframe tbody tr th:only-of-type {\n",
       "        vertical-align: middle;\n",
       "    }\n",
       "\n",
       "    .dataframe tbody tr th {\n",
       "        vertical-align: top;\n",
       "    }\n",
       "\n",
       "    .dataframe thead th {\n",
       "        text-align: right;\n",
       "    }\n",
       "</style>\n",
       "<table border=\"1\" class=\"dataframe\">\n",
       "  <thead>\n",
       "    <tr style=\"text-align: right;\">\n",
       "      <th></th>\n",
       "      <th>book_id</th>\n",
       "      <th>author_id</th>\n",
       "      <th>title</th>\n",
       "      <th>num_pages</th>\n",
       "      <th>publication_date</th>\n",
       "      <th>publisher_id</th>\n",
       "    </tr>\n",
       "  </thead>\n",
       "  <tbody>\n",
       "    <tr>\n",
       "      <th>0</th>\n",
       "      <td>1</td>\n",
       "      <td>546</td>\n",
       "      <td>'Salem's Lot</td>\n",
       "      <td>594</td>\n",
       "      <td>2005-11-01</td>\n",
       "      <td>93</td>\n",
       "    </tr>\n",
       "    <tr>\n",
       "      <th>1</th>\n",
       "      <td>2</td>\n",
       "      <td>465</td>\n",
       "      <td>1 000 Places to See Before You Die</td>\n",
       "      <td>992</td>\n",
       "      <td>2003-05-22</td>\n",
       "      <td>336</td>\n",
       "    </tr>\n",
       "    <tr>\n",
       "      <th>2</th>\n",
       "      <td>3</td>\n",
       "      <td>407</td>\n",
       "      <td>13 Little Blue Envelopes (Little Blue Envelope...</td>\n",
       "      <td>322</td>\n",
       "      <td>2010-12-21</td>\n",
       "      <td>135</td>\n",
       "    </tr>\n",
       "    <tr>\n",
       "      <th>3</th>\n",
       "      <td>4</td>\n",
       "      <td>82</td>\n",
       "      <td>1491: New Revelations of the Americas Before C...</td>\n",
       "      <td>541</td>\n",
       "      <td>2006-10-10</td>\n",
       "      <td>309</td>\n",
       "    </tr>\n",
       "    <tr>\n",
       "      <th>4</th>\n",
       "      <td>5</td>\n",
       "      <td>125</td>\n",
       "      <td>1776</td>\n",
       "      <td>386</td>\n",
       "      <td>2006-07-04</td>\n",
       "      <td>268</td>\n",
       "    </tr>\n",
       "  </tbody>\n",
       "</table>\n",
       "</div>"
      ],
      "text/plain": [
       "   book_id  author_id                                              title  \\\n",
       "0        1        546                                       'Salem's Lot   \n",
       "1        2        465                 1 000 Places to See Before You Die   \n",
       "2        3        407  13 Little Blue Envelopes (Little Blue Envelope...   \n",
       "3        4         82  1491: New Revelations of the Americas Before C...   \n",
       "4        5        125                                               1776   \n",
       "\n",
       "   num_pages publication_date  publisher_id  \n",
       "0        594       2005-11-01            93  \n",
       "1        992       2003-05-22           336  \n",
       "2        322       2010-12-21           135  \n",
       "3        541       2006-10-10           309  \n",
       "4        386       2006-07-04           268  "
      ]
     },
     "execution_count": 3,
     "metadata": {},
     "output_type": "execute_result"
    }
   ],
   "source": [
    "books='''\n",
    "        SELECT * \n",
    "        FROM books \n",
    "        LIMIT 5\n",
    "      '''\n",
    "out(books)"
   ]
  },
  {
   "cell_type": "code",
   "execution_count": 4,
   "metadata": {},
   "outputs": [
    {
     "data": {
      "text/html": [
       "<div>\n",
       "<style scoped>\n",
       "    .dataframe tbody tr th:only-of-type {\n",
       "        vertical-align: middle;\n",
       "    }\n",
       "\n",
       "    .dataframe tbody tr th {\n",
       "        vertical-align: top;\n",
       "    }\n",
       "\n",
       "    .dataframe thead th {\n",
       "        text-align: right;\n",
       "    }\n",
       "</style>\n",
       "<table border=\"1\" class=\"dataframe\">\n",
       "  <thead>\n",
       "    <tr style=\"text-align: right;\">\n",
       "      <th></th>\n",
       "      <th>author_id</th>\n",
       "      <th>author</th>\n",
       "    </tr>\n",
       "  </thead>\n",
       "  <tbody>\n",
       "    <tr>\n",
       "      <th>0</th>\n",
       "      <td>1</td>\n",
       "      <td>A.S. Byatt</td>\n",
       "    </tr>\n",
       "    <tr>\n",
       "      <th>1</th>\n",
       "      <td>2</td>\n",
       "      <td>Aesop/Laura Harris/Laura Gibbs</td>\n",
       "    </tr>\n",
       "    <tr>\n",
       "      <th>2</th>\n",
       "      <td>3</td>\n",
       "      <td>Agatha Christie</td>\n",
       "    </tr>\n",
       "    <tr>\n",
       "      <th>3</th>\n",
       "      <td>4</td>\n",
       "      <td>Alan Brennert</td>\n",
       "    </tr>\n",
       "    <tr>\n",
       "      <th>4</th>\n",
       "      <td>5</td>\n",
       "      <td>Alan Moore/David   Lloyd</td>\n",
       "    </tr>\n",
       "  </tbody>\n",
       "</table>\n",
       "</div>"
      ],
      "text/plain": [
       "   author_id                          author\n",
       "0          1                      A.S. Byatt\n",
       "1          2  Aesop/Laura Harris/Laura Gibbs\n",
       "2          3                 Agatha Christie\n",
       "3          4                   Alan Brennert\n",
       "4          5        Alan Moore/David   Lloyd"
      ]
     },
     "execution_count": 4,
     "metadata": {},
     "output_type": "execute_result"
    }
   ],
   "source": [
    "authors='''\n",
    "        SELECT * \n",
    "        FROM authors \n",
    "        LIMIT 5\n",
    "        '''\n",
    "out(authors)"
   ]
  },
  {
   "cell_type": "code",
   "execution_count": 5,
   "metadata": {},
   "outputs": [
    {
     "data": {
      "text/html": [
       "<div>\n",
       "<style scoped>\n",
       "    .dataframe tbody tr th:only-of-type {\n",
       "        vertical-align: middle;\n",
       "    }\n",
       "\n",
       "    .dataframe tbody tr th {\n",
       "        vertical-align: top;\n",
       "    }\n",
       "\n",
       "    .dataframe thead th {\n",
       "        text-align: right;\n",
       "    }\n",
       "</style>\n",
       "<table border=\"1\" class=\"dataframe\">\n",
       "  <thead>\n",
       "    <tr style=\"text-align: right;\">\n",
       "      <th></th>\n",
       "      <th>publisher_id</th>\n",
       "      <th>publisher</th>\n",
       "    </tr>\n",
       "  </thead>\n",
       "  <tbody>\n",
       "    <tr>\n",
       "      <th>0</th>\n",
       "      <td>1</td>\n",
       "      <td>Ace</td>\n",
       "    </tr>\n",
       "    <tr>\n",
       "      <th>1</th>\n",
       "      <td>2</td>\n",
       "      <td>Ace Book</td>\n",
       "    </tr>\n",
       "    <tr>\n",
       "      <th>2</th>\n",
       "      <td>3</td>\n",
       "      <td>Ace Books</td>\n",
       "    </tr>\n",
       "    <tr>\n",
       "      <th>3</th>\n",
       "      <td>4</td>\n",
       "      <td>Ace Hardcover</td>\n",
       "    </tr>\n",
       "    <tr>\n",
       "      <th>4</th>\n",
       "      <td>5</td>\n",
       "      <td>Addison Wesley Publishing Company</td>\n",
       "    </tr>\n",
       "  </tbody>\n",
       "</table>\n",
       "</div>"
      ],
      "text/plain": [
       "   publisher_id                          publisher\n",
       "0             1                                Ace\n",
       "1             2                           Ace Book\n",
       "2             3                          Ace Books\n",
       "3             4                      Ace Hardcover\n",
       "4             5  Addison Wesley Publishing Company"
      ]
     },
     "execution_count": 5,
     "metadata": {},
     "output_type": "execute_result"
    }
   ],
   "source": [
    "publishers='''\n",
    "            SELECT * \n",
    "            FROM publishers \n",
    "            LIMIT 5\n",
    "           '''\n",
    "out(publishers)"
   ]
  },
  {
   "cell_type": "code",
   "execution_count": 6,
   "metadata": {},
   "outputs": [
    {
     "data": {
      "text/html": [
       "<div>\n",
       "<style scoped>\n",
       "    .dataframe tbody tr th:only-of-type {\n",
       "        vertical-align: middle;\n",
       "    }\n",
       "\n",
       "    .dataframe tbody tr th {\n",
       "        vertical-align: top;\n",
       "    }\n",
       "\n",
       "    .dataframe thead th {\n",
       "        text-align: right;\n",
       "    }\n",
       "</style>\n",
       "<table border=\"1\" class=\"dataframe\">\n",
       "  <thead>\n",
       "    <tr style=\"text-align: right;\">\n",
       "      <th></th>\n",
       "      <th>rating_id</th>\n",
       "      <th>book_id</th>\n",
       "      <th>username</th>\n",
       "      <th>rating</th>\n",
       "    </tr>\n",
       "  </thead>\n",
       "  <tbody>\n",
       "    <tr>\n",
       "      <th>0</th>\n",
       "      <td>1</td>\n",
       "      <td>1</td>\n",
       "      <td>ryanfranco</td>\n",
       "      <td>4</td>\n",
       "    </tr>\n",
       "    <tr>\n",
       "      <th>1</th>\n",
       "      <td>2</td>\n",
       "      <td>1</td>\n",
       "      <td>grantpatricia</td>\n",
       "      <td>2</td>\n",
       "    </tr>\n",
       "    <tr>\n",
       "      <th>2</th>\n",
       "      <td>3</td>\n",
       "      <td>1</td>\n",
       "      <td>brandtandrea</td>\n",
       "      <td>5</td>\n",
       "    </tr>\n",
       "    <tr>\n",
       "      <th>3</th>\n",
       "      <td>4</td>\n",
       "      <td>2</td>\n",
       "      <td>lorichen</td>\n",
       "      <td>3</td>\n",
       "    </tr>\n",
       "    <tr>\n",
       "      <th>4</th>\n",
       "      <td>5</td>\n",
       "      <td>2</td>\n",
       "      <td>mariokeller</td>\n",
       "      <td>2</td>\n",
       "    </tr>\n",
       "  </tbody>\n",
       "</table>\n",
       "</div>"
      ],
      "text/plain": [
       "   rating_id  book_id       username  rating\n",
       "0          1        1     ryanfranco       4\n",
       "1          2        1  grantpatricia       2\n",
       "2          3        1   brandtandrea       5\n",
       "3          4        2       lorichen       3\n",
       "4          5        2    mariokeller       2"
      ]
     },
     "execution_count": 6,
     "metadata": {},
     "output_type": "execute_result"
    }
   ],
   "source": [
    "ratings='''\n",
    "        SELECT * \n",
    "        FROM ratings \n",
    "        LIMIT 5\n",
    "        '''\n",
    "out(ratings)"
   ]
  },
  {
   "cell_type": "code",
   "execution_count": 7,
   "metadata": {},
   "outputs": [
    {
     "data": {
      "text/html": [
       "<div>\n",
       "<style scoped>\n",
       "    .dataframe tbody tr th:only-of-type {\n",
       "        vertical-align: middle;\n",
       "    }\n",
       "\n",
       "    .dataframe tbody tr th {\n",
       "        vertical-align: top;\n",
       "    }\n",
       "\n",
       "    .dataframe thead th {\n",
       "        text-align: right;\n",
       "    }\n",
       "</style>\n",
       "<table border=\"1\" class=\"dataframe\">\n",
       "  <thead>\n",
       "    <tr style=\"text-align: right;\">\n",
       "      <th></th>\n",
       "      <th>review_id</th>\n",
       "      <th>book_id</th>\n",
       "      <th>username</th>\n",
       "      <th>text</th>\n",
       "    </tr>\n",
       "  </thead>\n",
       "  <tbody>\n",
       "    <tr>\n",
       "      <th>0</th>\n",
       "      <td>1</td>\n",
       "      <td>1</td>\n",
       "      <td>brandtandrea</td>\n",
       "      <td>Mention society tell send professor analysis. ...</td>\n",
       "    </tr>\n",
       "    <tr>\n",
       "      <th>1</th>\n",
       "      <td>2</td>\n",
       "      <td>1</td>\n",
       "      <td>ryanfranco</td>\n",
       "      <td>Foot glass pretty audience hit themselves. Amo...</td>\n",
       "    </tr>\n",
       "    <tr>\n",
       "      <th>2</th>\n",
       "      <td>3</td>\n",
       "      <td>2</td>\n",
       "      <td>lorichen</td>\n",
       "      <td>Listen treat keep worry. Miss husband tax but ...</td>\n",
       "    </tr>\n",
       "    <tr>\n",
       "      <th>3</th>\n",
       "      <td>4</td>\n",
       "      <td>3</td>\n",
       "      <td>johnsonamanda</td>\n",
       "      <td>Finally month interesting blue could nature cu...</td>\n",
       "    </tr>\n",
       "    <tr>\n",
       "      <th>4</th>\n",
       "      <td>5</td>\n",
       "      <td>3</td>\n",
       "      <td>scotttamara</td>\n",
       "      <td>Nation purpose heavy give wait song will. List...</td>\n",
       "    </tr>\n",
       "  </tbody>\n",
       "</table>\n",
       "</div>"
      ],
      "text/plain": [
       "   review_id  book_id       username  \\\n",
       "0          1        1   brandtandrea   \n",
       "1          2        1     ryanfranco   \n",
       "2          3        2       lorichen   \n",
       "3          4        3  johnsonamanda   \n",
       "4          5        3    scotttamara   \n",
       "\n",
       "                                                text  \n",
       "0  Mention society tell send professor analysis. ...  \n",
       "1  Foot glass pretty audience hit themselves. Amo...  \n",
       "2  Listen treat keep worry. Miss husband tax but ...  \n",
       "3  Finally month interesting blue could nature cu...  \n",
       "4  Nation purpose heavy give wait song will. List...  "
      ]
     },
     "execution_count": 7,
     "metadata": {},
     "output_type": "execute_result"
    }
   ],
   "source": [
    "reviews='''\n",
    "        SELECT * \n",
    "        FROM reviews \n",
    "        LIMIT 5\n",
    "        '''\n",
    "out(reviews)"
   ]
  },
  {
   "cell_type": "markdown",
   "metadata": {},
   "source": [
    "## Анализ данных"
   ]
  },
  {
   "cell_type": "markdown",
   "metadata": {},
   "source": [
    "### Количество книг вышедших после 1 января 2000 года"
   ]
  },
  {
   "cell_type": "code",
   "execution_count": 19,
   "metadata": {
    "scrolled": false
   },
   "outputs": [
    {
     "data": {
      "text/html": [
       "<div>\n",
       "<style scoped>\n",
       "    .dataframe tbody tr th:only-of-type {\n",
       "        vertical-align: middle;\n",
       "    }\n",
       "\n",
       "    .dataframe tbody tr th {\n",
       "        vertical-align: top;\n",
       "    }\n",
       "\n",
       "    .dataframe thead th {\n",
       "        text-align: right;\n",
       "    }\n",
       "</style>\n",
       "<table border=\"1\" class=\"dataframe\">\n",
       "  <thead>\n",
       "    <tr style=\"text-align: right;\">\n",
       "      <th></th>\n",
       "      <th>count</th>\n",
       "    </tr>\n",
       "  </thead>\n",
       "  <tbody>\n",
       "    <tr>\n",
       "      <th>0</th>\n",
       "      <td>819</td>\n",
       "    </tr>\n",
       "  </tbody>\n",
       "</table>\n",
       "</div>"
      ],
      "text/plain": [
       "   count\n",
       "0    819"
      ]
     },
     "execution_count": 19,
     "metadata": {},
     "output_type": "execute_result"
    }
   ],
   "source": [
    "books = '''\n",
    "        SELECT COUNT(*)\n",
    "        FROM books \n",
    "        WHERE publication_date > '2000-01-01';\n",
    "        '''\n",
    "out(books)"
   ]
  },
  {
   "cell_type": "markdown",
   "metadata": {},
   "source": [
    "819 книг вышло после 1 января 2000 года."
   ]
  },
  {
   "cell_type": "markdown",
   "metadata": {},
   "source": [
    "### Количество обзоров и средня оценка для каждой книги "
   ]
  },
  {
   "cell_type": "code",
   "execution_count": 18,
   "metadata": {},
   "outputs": [
    {
     "data": {
      "text/html": [
       "<div>\n",
       "<style scoped>\n",
       "    .dataframe tbody tr th:only-of-type {\n",
       "        vertical-align: middle;\n",
       "    }\n",
       "\n",
       "    .dataframe tbody tr th {\n",
       "        vertical-align: top;\n",
       "    }\n",
       "\n",
       "    .dataframe thead th {\n",
       "        text-align: right;\n",
       "    }\n",
       "</style>\n",
       "<table border=\"1\" class=\"dataframe\">\n",
       "  <thead>\n",
       "    <tr style=\"text-align: right;\">\n",
       "      <th></th>\n",
       "      <th>book_id</th>\n",
       "      <th>title</th>\n",
       "      <th>reviews_count</th>\n",
       "      <th>average_rating</th>\n",
       "    </tr>\n",
       "  </thead>\n",
       "  <tbody>\n",
       "    <tr>\n",
       "      <th>0</th>\n",
       "      <td>948</td>\n",
       "      <td>Twilight (Twilight  #1)</td>\n",
       "      <td>7</td>\n",
       "      <td>3.662500</td>\n",
       "    </tr>\n",
       "    <tr>\n",
       "      <th>1</th>\n",
       "      <td>963</td>\n",
       "      <td>Water for Elephants</td>\n",
       "      <td>6</td>\n",
       "      <td>3.977273</td>\n",
       "    </tr>\n",
       "    <tr>\n",
       "      <th>2</th>\n",
       "      <td>734</td>\n",
       "      <td>The Glass Castle</td>\n",
       "      <td>6</td>\n",
       "      <td>4.206897</td>\n",
       "    </tr>\n",
       "    <tr>\n",
       "      <th>3</th>\n",
       "      <td>302</td>\n",
       "      <td>Harry Potter and the Prisoner of Azkaban (Harr...</td>\n",
       "      <td>6</td>\n",
       "      <td>4.414634</td>\n",
       "    </tr>\n",
       "    <tr>\n",
       "      <th>4</th>\n",
       "      <td>695</td>\n",
       "      <td>The Curious Incident of the Dog in the Night-Time</td>\n",
       "      <td>6</td>\n",
       "      <td>4.081081</td>\n",
       "    </tr>\n",
       "    <tr>\n",
       "      <th>...</th>\n",
       "      <td>...</td>\n",
       "      <td>...</td>\n",
       "      <td>...</td>\n",
       "      <td>...</td>\n",
       "    </tr>\n",
       "    <tr>\n",
       "      <th>995</th>\n",
       "      <td>83</td>\n",
       "      <td>Anne Rice's The Vampire Lestat: A Graphic Novel</td>\n",
       "      <td>0</td>\n",
       "      <td>3.666667</td>\n",
       "    </tr>\n",
       "    <tr>\n",
       "      <th>996</th>\n",
       "      <td>808</td>\n",
       "      <td>The Natural Way to Draw</td>\n",
       "      <td>0</td>\n",
       "      <td>3.000000</td>\n",
       "    </tr>\n",
       "    <tr>\n",
       "      <th>997</th>\n",
       "      <td>672</td>\n",
       "      <td>The Cat in the Hat and Other Dr. Seuss Favorites</td>\n",
       "      <td>0</td>\n",
       "      <td>5.000000</td>\n",
       "    </tr>\n",
       "    <tr>\n",
       "      <th>998</th>\n",
       "      <td>221</td>\n",
       "      <td>Essential Tales and Poems</td>\n",
       "      <td>0</td>\n",
       "      <td>4.000000</td>\n",
       "    </tr>\n",
       "    <tr>\n",
       "      <th>999</th>\n",
       "      <td>191</td>\n",
       "      <td>Disney's Beauty and the Beast (A Little Golden...</td>\n",
       "      <td>0</td>\n",
       "      <td>4.000000</td>\n",
       "    </tr>\n",
       "  </tbody>\n",
       "</table>\n",
       "<p>1000 rows × 4 columns</p>\n",
       "</div>"
      ],
      "text/plain": [
       "     book_id                                              title  \\\n",
       "0        948                            Twilight (Twilight  #1)   \n",
       "1        963                                Water for Elephants   \n",
       "2        734                                   The Glass Castle   \n",
       "3        302  Harry Potter and the Prisoner of Azkaban (Harr...   \n",
       "4        695  The Curious Incident of the Dog in the Night-Time   \n",
       "..       ...                                                ...   \n",
       "995       83    Anne Rice's The Vampire Lestat: A Graphic Novel   \n",
       "996      808                            The Natural Way to Draw   \n",
       "997      672   The Cat in the Hat and Other Dr. Seuss Favorites   \n",
       "998      221                          Essential Tales and Poems   \n",
       "999      191  Disney's Beauty and the Beast (A Little Golden...   \n",
       "\n",
       "     reviews_count  average_rating  \n",
       "0                7        3.662500  \n",
       "1                6        3.977273  \n",
       "2                6        4.206897  \n",
       "3                6        4.414634  \n",
       "4                6        4.081081  \n",
       "..             ...             ...  \n",
       "995              0        3.666667  \n",
       "996              0        3.000000  \n",
       "997              0        5.000000  \n",
       "998              0        4.000000  \n",
       "999              0        4.000000  \n",
       "\n",
       "[1000 rows x 4 columns]"
      ]
     },
     "execution_count": 18,
     "metadata": {},
     "output_type": "execute_result"
    }
   ],
   "source": [
    "reviews_books = ''' \n",
    "                WITH reviews AS\n",
    "                (SELECT b.book_id,\n",
    "                b.title,\n",
    "                COUNT(r.review_id) AS reviews_count\n",
    "                FROM books b\n",
    "                LEFT JOIN reviews r on b.book_id = r.book_id\n",
    "                GROUP BY b.book_id), \n",
    "                average AS\n",
    "                (SELECT b.book_id, \n",
    "                AVG(rating) AS average_rating\n",
    "                FROM books b\n",
    "                LEFT JOIN ratings rt on b.book_id = rt.book_id\n",
    "                GROUP BY b.book_id)\n",
    "                SELECT rev.book_id, rev.title, rev.reviews_count,\n",
    "                ave.average_rating\n",
    "                FROM reviews rev\n",
    "                LEFT JOIN average ave ON rev.book_id = ave.book_id\n",
    "                ORDER BY reviews_count DESC;\n",
    "                '''\n",
    "out(reviews_books)"
   ]
  },
  {
   "cell_type": "markdown",
   "metadata": {},
   "source": [
    "Больще всего обзоров у \"Twilight\" - 7, но при этом низкий рейтинг, всего 3.66.\n",
    "Далее идут \"Water for Elephants\t\" с 6 обзорами и рейтингом 3.97, \"The Glass Castle\" с 6 обзорами и рейтингом 4.20 и \"Harry Potter and the Prisoner of Azkaban\" с рейтингом 4.41."
   ]
  },
  {
   "cell_type": "markdown",
   "metadata": {},
   "source": [
    "### Издательство, которое выпустило наибольшее число книг толще 50 страниц — исключаем из анализа брошюры"
   ]
  },
  {
   "cell_type": "code",
   "execution_count": null,
   "metadata": {
    "scrolled": true
   },
   "outputs": [],
   "source": [
    "publisher = '''\n",
    "            SELECT p.publisher_id,\n",
    "            p.publisher,\n",
    "            COUNT(b.book_id) AS book_count\n",
    "            FROM books b\n",
    "            JOIN publishers p ON b.publisher_id = p.publisher_id\n",
    "            WHERE b.num_pages > 50\n",
    "            GROUP BY p.publisher_id,\n",
    "            p.publisher\n",
    "            ORDER BY book_count DESC\n",
    "            LIMIT 1;\n",
    "            '''\n",
    "out(publisher)"
   ]
  },
  {
   "cell_type": "markdown",
   "metadata": {},
   "source": [
    "Больше всего книг толще 50 страниц выпустило издательство \"Penguin Books\". Количество выпущенных книг - 42."
   ]
  },
  {
   "cell_type": "markdown",
   "metadata": {},
   "source": [
    "### Автор с самой высокой средней оценкой книг — учитывая только книги с 50 и более оценками"
   ]
  },
  {
   "cell_type": "code",
   "execution_count": null,
   "metadata": {},
   "outputs": [],
   "source": [
    "author = '''\n",
    "         SELECT a.author_id,\n",
    "         a.author,\n",
    "         AVG(r.rating) AS average_rating,\n",
    "         COUNT(r.rating_id) AS rating_count\n",
    "         FROM authors a\n",
    "         JOIN books b ON a.author_id = b.author_id\n",
    "         JOIN \n",
    "         (SELECT book_id,\n",
    "         COUNT(rating_id) AS rating_count\n",
    "         FROM ratings\n",
    "         GROUP BY book_id\n",
    "         HAVING COUNT(rating_id) >= 50\n",
    "         ) AS subquery ON b.book_id = subquery.book_id\n",
    "         JOIN ratings r ON b.book_id = r.book_id \n",
    "         GROUP BY a.author_id,\n",
    "         a.author\n",
    "         ORDER BY average_rating DESC\n",
    "         LIMIT 1;\n",
    "         '''\n",
    "out(author)"
   ]
  },
  {
   "cell_type": "markdown",
   "metadata": {},
   "source": [
    "Учитывая только те книги, которые имеют более 50 оценок, самая высокая средняя оценка книг у автора \"J.K. Rowling/Mary GrandPré\" - 4.28. Этот автор имеет 310 оценок."
   ]
  },
  {
   "cell_type": "markdown",
   "metadata": {},
   "source": [
    "### Среднее количество обзоров от пользователей, которые поставили больше 48 оценок"
   ]
  },
  {
   "cell_type": "code",
   "execution_count": null,
   "metadata": {},
   "outputs": [],
   "source": [
    "user_reviews = '''\n",
    "               SELECT AVG(review_count) AS average_review_count\n",
    "               FROM \n",
    "               (SELECT r.username,\n",
    "               COUNT(r.review_id) AS review_count\n",
    "               FROM reviews r\n",
    "               JOIN (SELECT username\n",
    "               FROM ratings\n",
    "               GROUP BY username\n",
    "               HAVING COUNT(rating_id) > 48) AS subquery ON r.username = subquery.username\n",
    "               GROUP BY r.username) AS user_reviews;\n",
    "               '''\n",
    "out(user_reviews)"
   ]
  },
  {
   "cell_type": "markdown",
   "metadata": {},
   "source": [
    "Учитывая только тех пользователей, которые поставили более 48 оценок, среднее количество написанных обзоров составляет 24."
   ]
  },
  {
   "cell_type": "markdown",
   "metadata": {},
   "source": [
    "## Вывод"
   ]
  },
  {
   "cell_type": "markdown",
   "metadata": {},
   "source": [
    "На основе предоставленной информации можно сделать следующие выводы и рекомендации:\n",
    "\n",
    "1.\tВозросшее количество выпущенных книг после 1 января 2000 года (821 книга) может указывать на активность издательств и повышенный интерес к чтению книг. Это может быть положительным сигналом для компании, которая приобрела сервис для чтения книг по подписке.\n",
    "\n",
    "2.\tАнализ количества обзоров и средней оценки для каждой книги может помочь определить популярность и качество книг в базе данных. Оценка качества книг и отзывов пользователей может быть важным фактором для формулирования ценностного предложения нового продукта.\n",
    "\n",
    "3.\tИздательство Penguin Books выпустило наибольшее количество книг, что указывает на его значительную роль на рынке и потенциальную популярность среди читателей. Рекомендация состоит в том, чтобы обратить внимание на книги, выпущенные издательством Penguin Books, и оценить их качество и подходят ли они под вашу целевую аудиторию.\n",
    "\n",
    "4.\tАвтор J.K. Rowling имеет самую высокую среднюю оценку книг среди авторов с 50 и более оценками. Это указывает на популярность и высокую оценку ее произведений среди читателей. Стоит обратить внимание на книги J.K. Rowling и рассмотреть возможность включения их в подписку на чтение книг.\n",
    "\n",
    "5.\tПользователи, которые оставили более 48 оценок, в среднем написали 24 обзора. Это говорит о том, что эти пользователи активно взаимодействуют с книгами, оценивают их и оставляют обзоры. Нужно обратить внимание на обзоры этих пользователей, так как они могут быть полезными для привлечения новых пользователей и формирования репутации сервиса.\n"
   ]
  }
 ],
 "metadata": {
  "ExecuteTimeLog": [
   {
    "duration": 7191,
    "start_time": "2023-07-11T14:47:52.042Z"
   },
   {
    "duration": 3,
    "start_time": "2023-07-11T14:54:09.119Z"
   },
   {
    "duration": 68,
    "start_time": "2023-07-11T14:54:19.613Z"
   },
   {
    "duration": 125,
    "start_time": "2023-07-11T14:54:39.061Z"
   },
   {
    "duration": 3,
    "start_time": "2023-07-11T14:54:40.596Z"
   },
   {
    "duration": 115,
    "start_time": "2023-07-11T14:54:41.108Z"
   },
   {
    "duration": 5,
    "start_time": "2023-07-11T14:54:52.687Z"
   },
   {
    "duration": 7585,
    "start_time": "2023-07-11T14:54:56.895Z"
   },
   {
    "duration": 4,
    "start_time": "2023-07-11T14:55:04.482Z"
   },
   {
    "duration": 128,
    "start_time": "2023-07-11T14:55:04.487Z"
   },
   {
    "duration": 2,
    "start_time": "2023-07-11T14:56:24.036Z"
   },
   {
    "duration": 89,
    "start_time": "2023-07-11T14:57:38.194Z"
   },
   {
    "duration": 71,
    "start_time": "2023-07-11T14:57:56.618Z"
   },
   {
    "duration": 37,
    "start_time": "2023-07-11T14:58:29.779Z"
   },
   {
    "duration": 11,
    "start_time": "2023-07-11T14:59:05.395Z"
   },
   {
    "duration": 13,
    "start_time": "2023-07-11T14:59:06.265Z"
   },
   {
    "duration": 13,
    "start_time": "2023-07-11T14:59:06.662Z"
   },
   {
    "duration": 14,
    "start_time": "2023-07-11T15:18:40.247Z"
   },
   {
    "duration": 11,
    "start_time": "2023-07-11T15:18:40.964Z"
   },
   {
    "duration": 13,
    "start_time": "2023-07-11T15:18:42.953Z"
   },
   {
    "duration": 11,
    "start_time": "2023-07-11T15:18:43.833Z"
   },
   {
    "duration": 12,
    "start_time": "2023-07-11T15:18:44.956Z"
   },
   {
    "duration": 28,
    "start_time": "2023-07-11T15:20:44.223Z"
   },
   {
    "duration": 75,
    "start_time": "2023-07-11T15:21:08.140Z"
   },
   {
    "duration": 126,
    "start_time": "2023-07-11T15:22:39.309Z"
   },
   {
    "duration": 71,
    "start_time": "2023-07-11T15:25:42.469Z"
   },
   {
    "duration": 155,
    "start_time": "2023-07-11T15:25:46.879Z"
   },
   {
    "duration": 87,
    "start_time": "2023-07-11T15:26:08.442Z"
   },
   {
    "duration": 68,
    "start_time": "2023-07-11T15:27:40.744Z"
   },
   {
    "duration": 22,
    "start_time": "2023-07-11T15:27:49.967Z"
   },
   {
    "duration": 23,
    "start_time": "2023-07-11T15:28:02.417Z"
   },
   {
    "duration": 23,
    "start_time": "2023-07-11T15:28:30.355Z"
   },
   {
    "duration": 82,
    "start_time": "2023-07-11T15:29:08.661Z"
   },
   {
    "duration": 49,
    "start_time": "2023-07-11T15:29:35.890Z"
   },
   {
    "duration": 69,
    "start_time": "2023-07-11T15:33:52.638Z"
   },
   {
    "duration": 23,
    "start_time": "2023-07-11T15:33:54.841Z"
   },
   {
    "duration": 23,
    "start_time": "2023-07-11T15:34:22.322Z"
   },
   {
    "duration": 22,
    "start_time": "2023-07-11T15:34:28.006Z"
   },
   {
    "duration": 23,
    "start_time": "2023-07-11T15:34:31.786Z"
   },
   {
    "duration": 28,
    "start_time": "2023-07-11T15:35:55.140Z"
   },
   {
    "duration": 59,
    "start_time": "2023-07-11T15:37:10.246Z"
   },
   {
    "duration": 13,
    "start_time": "2023-07-11T15:37:21.607Z"
   },
   {
    "duration": 11,
    "start_time": "2023-07-11T15:38:44.722Z"
   },
   {
    "duration": 11,
    "start_time": "2023-07-11T15:38:47.325Z"
   },
   {
    "duration": 11,
    "start_time": "2023-07-11T15:38:47.737Z"
   },
   {
    "duration": 13,
    "start_time": "2023-07-11T15:39:09.842Z"
   },
   {
    "duration": 7,
    "start_time": "2023-07-11T15:39:26.004Z"
   },
   {
    "duration": 13,
    "start_time": "2023-07-11T15:39:33.003Z"
   },
   {
    "duration": 22,
    "start_time": "2023-07-11T15:40:02.907Z"
   },
   {
    "duration": 11,
    "start_time": "2023-07-11T15:40:40.349Z"
   },
   {
    "duration": 7297,
    "start_time": "2023-07-11T15:41:44.564Z"
   },
   {
    "duration": 3,
    "start_time": "2023-07-11T15:41:51.863Z"
   },
   {
    "duration": 61,
    "start_time": "2023-07-11T15:41:51.867Z"
   },
   {
    "duration": 11,
    "start_time": "2023-07-11T15:41:51.930Z"
   },
   {
    "duration": 26,
    "start_time": "2023-07-11T15:41:51.943Z"
   },
   {
    "duration": 12,
    "start_time": "2023-07-11T15:41:51.971Z"
   },
   {
    "duration": 11,
    "start_time": "2023-07-11T15:41:51.984Z"
   },
   {
    "duration": 13,
    "start_time": "2023-07-11T15:41:51.997Z"
   },
   {
    "duration": 86,
    "start_time": "2023-07-11T15:45:31.925Z"
   },
   {
    "duration": 7373,
    "start_time": "2023-07-12T17:42:08.384Z"
   },
   {
    "duration": 3,
    "start_time": "2023-07-12T17:42:15.760Z"
   },
   {
    "duration": 78,
    "start_time": "2023-07-12T17:42:15.764Z"
   },
   {
    "duration": 9,
    "start_time": "2023-07-12T17:42:15.844Z"
   },
   {
    "duration": 11,
    "start_time": "2023-07-12T17:42:15.855Z"
   },
   {
    "duration": 13,
    "start_time": "2023-07-12T17:42:15.867Z"
   },
   {
    "duration": 11,
    "start_time": "2023-07-12T17:42:15.882Z"
   },
   {
    "duration": 9,
    "start_time": "2023-07-12T17:42:15.894Z"
   },
   {
    "duration": 92,
    "start_time": "2023-07-12T17:42:15.904Z"
   },
   {
    "duration": 56,
    "start_time": "2023-07-12T18:25:37.221Z"
   },
   {
    "duration": 58,
    "start_time": "2023-07-12T18:25:58.402Z"
   },
   {
    "duration": 56,
    "start_time": "2023-07-12T18:27:45.244Z"
   },
   {
    "duration": 38,
    "start_time": "2023-07-12T18:38:21.911Z"
   },
   {
    "duration": 38,
    "start_time": "2023-07-12T18:38:43.816Z"
   },
   {
    "duration": 29,
    "start_time": "2023-07-12T18:39:18.623Z"
   },
   {
    "duration": 29,
    "start_time": "2023-07-12T18:39:33.950Z"
   },
   {
    "duration": 17,
    "start_time": "2023-07-12T18:49:04.249Z"
   },
   {
    "duration": 35,
    "start_time": "2023-07-12T18:49:57.523Z"
   },
   {
    "duration": 16,
    "start_time": "2023-07-12T18:53:16.502Z"
   },
   {
    "duration": 23,
    "start_time": "2023-07-12T19:00:00.821Z"
   },
   {
    "duration": 14,
    "start_time": "2023-07-12T19:00:17.904Z"
   },
   {
    "duration": 27,
    "start_time": "2023-07-12T19:06:10.306Z"
   },
   {
    "duration": 55,
    "start_time": "2023-07-12T19:06:22.180Z"
   },
   {
    "duration": 19,
    "start_time": "2023-07-12T19:06:46.928Z"
   },
   {
    "duration": 22,
    "start_time": "2023-07-12T19:08:09.942Z"
   },
   {
    "duration": 22,
    "start_time": "2023-07-12T19:08:23.637Z"
   },
   {
    "duration": 21,
    "start_time": "2023-07-12T19:11:00.443Z"
   },
   {
    "duration": 31,
    "start_time": "2023-07-12T19:14:09.601Z"
   },
   {
    "duration": 18,
    "start_time": "2023-07-12T19:14:40.697Z"
   },
   {
    "duration": 13,
    "start_time": "2023-07-12T19:16:25.722Z"
   },
   {
    "duration": 29,
    "start_time": "2023-07-12T19:18:07.461Z"
   },
   {
    "duration": 13,
    "start_time": "2023-07-12T19:19:25.386Z"
   },
   {
    "duration": 7642,
    "start_time": "2023-07-12T19:35:22.615Z"
   },
   {
    "duration": 3,
    "start_time": "2023-07-12T19:35:30.260Z"
   },
   {
    "duration": 113,
    "start_time": "2023-07-12T19:35:30.265Z"
   },
   {
    "duration": 28,
    "start_time": "2023-07-12T19:35:30.380Z"
   },
   {
    "duration": 49,
    "start_time": "2023-07-12T19:35:30.411Z"
   },
   {
    "duration": 58,
    "start_time": "2023-07-12T19:35:30.462Z"
   },
   {
    "duration": 64,
    "start_time": "2023-07-12T19:35:30.522Z"
   },
   {
    "duration": 40,
    "start_time": "2023-07-12T19:35:30.588Z"
   },
   {
    "duration": 59,
    "start_time": "2023-07-12T19:35:30.630Z"
   },
   {
    "duration": 30,
    "start_time": "2023-07-12T19:35:30.691Z"
   },
   {
    "duration": 58,
    "start_time": "2023-07-12T19:35:30.724Z"
   },
   {
    "duration": 30,
    "start_time": "2023-07-12T19:35:30.784Z"
   },
   {
    "duration": 13286,
    "start_time": "2023-07-12T22:33:50.192Z"
   },
   {
    "duration": 3,
    "start_time": "2023-07-12T22:34:03.480Z"
   },
   {
    "duration": 339,
    "start_time": "2023-07-12T22:34:03.484Z"
   },
   {
    "duration": 66,
    "start_time": "2023-07-12T22:34:03.824Z"
   },
   {
    "duration": 85,
    "start_time": "2023-07-12T22:34:03.892Z"
   },
   {
    "duration": 83,
    "start_time": "2023-07-12T22:34:03.979Z"
   },
   {
    "duration": 86,
    "start_time": "2023-07-12T22:34:04.064Z"
   },
   {
    "duration": 68,
    "start_time": "2023-07-12T22:34:04.152Z"
   },
   {
    "duration": 136,
    "start_time": "2023-07-12T22:34:04.224Z"
   },
   {
    "duration": 91,
    "start_time": "2023-07-12T22:34:04.363Z"
   },
   {
    "duration": 84,
    "start_time": "2023-07-12T22:34:04.457Z"
   },
   {
    "duration": 66,
    "start_time": "2023-07-12T22:34:04.545Z"
   },
   {
    "duration": 103,
    "start_time": "2023-07-13T10:02:30.448Z"
   },
   {
    "duration": 42604,
    "start_time": "2023-07-13T10:02:50.820Z"
   },
   {
    "duration": 4,
    "start_time": "2023-07-13T10:03:33.426Z"
   },
   {
    "duration": 304,
    "start_time": "2023-07-13T10:03:33.432Z"
   },
   {
    "duration": 60,
    "start_time": "2023-07-13T10:03:33.738Z"
   },
   {
    "duration": 63,
    "start_time": "2023-07-13T10:03:33.801Z"
   },
   {
    "duration": 55,
    "start_time": "2023-07-13T10:03:33.866Z"
   },
   {
    "duration": 76,
    "start_time": "2023-07-13T10:03:33.923Z"
   },
   {
    "duration": 66,
    "start_time": "2023-07-13T10:03:34.001Z"
   },
   {
    "duration": 128,
    "start_time": "2023-07-13T10:03:34.069Z"
   },
   {
    "duration": 0,
    "start_time": "2023-07-13T10:03:34.198Z"
   },
   {
    "duration": 0,
    "start_time": "2023-07-13T10:03:34.199Z"
   },
   {
    "duration": 0,
    "start_time": "2023-07-13T10:03:34.200Z"
   },
   {
    "duration": 173,
    "start_time": "2023-07-13T10:04:15.412Z"
   },
   {
    "duration": 152,
    "start_time": "2023-07-13T10:04:43.445Z"
   },
   {
    "duration": 170,
    "start_time": "2023-07-13T10:04:55.316Z"
   },
   {
    "duration": 49,
    "start_time": "2023-07-13T10:10:34.257Z"
   },
   {
    "duration": 61,
    "start_time": "2023-07-13T10:11:10.668Z"
   },
   {
    "duration": 97,
    "start_time": "2023-07-13T10:12:23.284Z"
   },
   {
    "duration": 65,
    "start_time": "2023-07-13T10:14:24.752Z"
   },
   {
    "duration": 68,
    "start_time": "2023-07-13T10:14:35.510Z"
   },
   {
    "duration": 84,
    "start_time": "2023-07-13T10:15:03.012Z"
   },
   {
    "duration": 53,
    "start_time": "2023-07-13T10:15:19.629Z"
   }
  ],
  "kernelspec": {
   "display_name": "Python 3 (ipykernel)",
   "language": "python",
   "name": "python3"
  },
  "language_info": {
   "codemirror_mode": {
    "name": "ipython",
    "version": 3
   },
   "file_extension": ".py",
   "mimetype": "text/x-python",
   "name": "python",
   "nbconvert_exporter": "python",
   "pygments_lexer": "ipython3",
   "version": "3.9.5"
  },
  "toc": {
   "base_numbering": 1,
   "nav_menu": {},
   "number_sections": true,
   "sideBar": true,
   "skip_h1_title": true,
   "title_cell": "Table of Contents",
   "title_sidebar": "Contents",
   "toc_cell": false,
   "toc_position": {
    "height": "500px",
    "left": "652px",
    "top": "176.441px",
    "width": "200.66px"
   },
   "toc_section_display": true,
   "toc_window_display": true
  }
 },
 "nbformat": 4,
 "nbformat_minor": 2
}
